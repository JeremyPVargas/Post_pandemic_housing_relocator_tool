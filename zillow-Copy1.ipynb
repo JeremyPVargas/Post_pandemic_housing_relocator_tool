{
 "cells": [
  {
   "cell_type": "code",
   "execution_count": 1,
   "id": "798c067f-adf1-4933-a6fe-72762597ad7f",
   "metadata": {},
   "outputs": [],
   "source": [
    "import requests\n",
    "import time\n",
    "import pandas as pd\n",
    "from bs4 import BeautifulSoup"
   ]
  },
  {
   "cell_type": "code",
   "execution_count": 2,
   "id": "8cab7e7a-c0cc-4e8d-83c2-636d45cf4ef5",
   "metadata": {},
   "outputs": [],
   "source": [
    "pd.options.display.max_columns = None"
   ]
  },
  {
   "cell_type": "code",
   "execution_count": 3,
   "id": "e7aef1b9-6beb-451b-a485-825fc692df70",
   "metadata": {},
   "outputs": [],
   "source": [
    "df = pd.read_csv('./api_keys.csv')\n",
    "zwsid = df.loc[df['API'] == 'zillow']['KEY'].iloc[0]\n",
    "rapid_api_key = df.loc[df['API'] == 'rapid']['KEY'].iloc[0]"
   ]
  },
  {
   "cell_type": "code",
   "execution_count": 4,
   "id": "87306244-c4f7-4fb9-80ca-93ec9875f841",
   "metadata": {},
   "outputs": [],
   "source": [
    "import requests\n",
    "\n",
    "url = \"https://zillow-com1.p.rapidapi.com/propertyExtendedSearch\"\n",
    "\n",
    "querystring = {\"location\":\"othello, wa\", \"status_type\":\"ForRent\", \"price\":\"\"}\n",
    "\n",
    "headers = {\n",
    "\t\"X-RapidAPI-Key\": rapid_api_key,\n",
    "\t\"X-RapidAPI-Host\": \"zillow-com1.p.rapidapi.com\"\n",
    "}\n",
    "\n",
    "z_rent = requests.request(\"GET\", url, headers=headers, params=querystring)"
   ]
  },
  {
   "cell_type": "code",
   "execution_count": 5,
   "id": "1ca2fcd4-ec55-422a-95b1-b74acbd77bc7",
   "metadata": {},
   "outputs": [],
   "source": [
    "z_rent_json = z_rent.json()"
   ]
  },
  {
   "cell_type": "code",
   "execution_count": 6,
   "id": "606468eb-85ee-40ac-b7f8-d8e1744de6c2",
   "metadata": {},
   "outputs": [],
   "source": [
    "time.sleep(1.0)"
   ]
  },
  {
   "cell_type": "code",
   "execution_count": 7,
   "id": "84c4f082-fb60-445c-b01c-0b8b049a150a",
   "metadata": {},
   "outputs": [
    {
     "data": {
      "text/plain": [
       "{'props': [{'dateSold': None,\n",
       "   'propertyType': 'SINGLE_FAMILY',\n",
       "   'lotAreaValue': 6970,\n",
       "   'address': '1175 Millestone Ct, Othello, WA 99344',\n",
       "   'imgSrc': 'https://photos.zillowstatic.com/fp/1e4879cc19402ab7879a97c3e19ee81a-p_e.jpg',\n",
       "   'price': 1775,\n",
       "   'bedrooms': 3,\n",
       "   'longitude': -119.276505,\n",
       "   'latitude': 46.79311,\n",
       "   'listingStatus': 'FOR_RENT',\n",
       "   'zpid': '299697422',\n",
       "   'listingSubType': {},\n",
       "   'contingentListingType': None,\n",
       "   'daysOnZillow': -1,\n",
       "   'bathrooms': 2,\n",
       "   'livingArea': 1360,\n",
       "   'country': 'USA',\n",
       "   'currency': 'USD',\n",
       "   'lotAreaUnit': 'sqft',\n",
       "   'hasImage': True}],\n",
       " 'resultsPerPage': 40,\n",
       " 'totalResultCount': 1,\n",
       " 'totalPages': 1}"
      ]
     },
     "execution_count": 7,
     "metadata": {},
     "output_type": "execute_result"
    }
   ],
   "source": [
    "z_rent_json"
   ]
  },
  {
   "cell_type": "code",
   "execution_count": 12,
   "id": "b4077f00-3c09-432a-99e9-bbc6fc615249",
   "metadata": {},
   "outputs": [
    {
     "data": {
      "text/html": [
       "<div>\n",
       "<style scoped>\n",
       "    .dataframe tbody tr th:only-of-type {\n",
       "        vertical-align: middle;\n",
       "    }\n",
       "\n",
       "    .dataframe tbody tr th {\n",
       "        vertical-align: top;\n",
       "    }\n",
       "\n",
       "    .dataframe thead th {\n",
       "        text-align: right;\n",
       "    }\n",
       "</style>\n",
       "<table border=\"1\" class=\"dataframe\">\n",
       "  <thead>\n",
       "    <tr style=\"text-align: right;\">\n",
       "      <th></th>\n",
       "      <th>dateSold</th>\n",
       "      <th>propertyType</th>\n",
       "      <th>lotAreaValue</th>\n",
       "      <th>address</th>\n",
       "      <th>imgSrc</th>\n",
       "      <th>price</th>\n",
       "      <th>bedrooms</th>\n",
       "      <th>longitude</th>\n",
       "      <th>latitude</th>\n",
       "      <th>listingStatus</th>\n",
       "      <th>zpid</th>\n",
       "      <th>contingentListingType</th>\n",
       "      <th>daysOnZillow</th>\n",
       "      <th>bathrooms</th>\n",
       "      <th>livingArea</th>\n",
       "      <th>country</th>\n",
       "      <th>currency</th>\n",
       "      <th>lotAreaUnit</th>\n",
       "      <th>hasImage</th>\n",
       "    </tr>\n",
       "  </thead>\n",
       "  <tbody>\n",
       "    <tr>\n",
       "      <th>0</th>\n",
       "      <td>None</td>\n",
       "      <td>SINGLE_FAMILY</td>\n",
       "      <td>6970</td>\n",
       "      <td>1175 Millestone Ct, Othello, WA 99344</td>\n",
       "      <td>https://photos.zillowstatic.com/fp/1e4879cc194...</td>\n",
       "      <td>1775</td>\n",
       "      <td>3</td>\n",
       "      <td>-119.276505</td>\n",
       "      <td>46.79311</td>\n",
       "      <td>FOR_RENT</td>\n",
       "      <td>299697422</td>\n",
       "      <td>None</td>\n",
       "      <td>-1</td>\n",
       "      <td>2</td>\n",
       "      <td>1360</td>\n",
       "      <td>USA</td>\n",
       "      <td>USD</td>\n",
       "      <td>sqft</td>\n",
       "      <td>True</td>\n",
       "    </tr>\n",
       "  </tbody>\n",
       "</table>\n",
       "</div>"
      ],
      "text/plain": [
       "  dateSold   propertyType  lotAreaValue  \\\n",
       "0     None  SINGLE_FAMILY          6970   \n",
       "\n",
       "                                 address  \\\n",
       "0  1175 Millestone Ct, Othello, WA 99344   \n",
       "\n",
       "                                              imgSrc  price  bedrooms  \\\n",
       "0  https://photos.zillowstatic.com/fp/1e4879cc194...   1775         3   \n",
       "\n",
       "    longitude  latitude listingStatus       zpid contingentListingType  \\\n",
       "0 -119.276505  46.79311      FOR_RENT  299697422                  None   \n",
       "\n",
       "   daysOnZillow  bathrooms  livingArea country currency lotAreaUnit  hasImage  \n",
       "0            -1          2        1360     USA      USD        sqft      True  "
      ]
     },
     "execution_count": 12,
     "metadata": {},
     "output_type": "execute_result"
    }
   ],
   "source": [
    "pd.json_normalize(data=z_rent_json['props']).head()"
   ]
  },
  {
   "cell_type": "code",
   "execution_count": 9,
   "id": "912f4a41-7f2d-48ac-8706-52dbf8962807",
   "metadata": {},
   "outputs": [],
   "source": [
    "df_z_rent = pd.json_normalize(data=z_rent_json['props'])"
   ]
  },
  {
   "cell_type": "code",
   "execution_count": 10,
   "id": "4993aeb0-157b-4048-9275-28c1c8d260b0",
   "metadata": {},
   "outputs": [
    {
     "name": "stdout",
     "output_type": "stream",
     "text": [
      "Num of cols: 19\n"
     ]
    }
   ],
   "source": [
    "print(\"Num of cols:\", len(df_z_rent.columns))"
   ]
  },
  {
   "cell_type": "code",
   "execution_count": 11,
   "id": "f0b0f47e-2d10-44c0-8eb3-a6189e58606c",
   "metadata": {},
   "outputs": [
    {
     "name": "stdout",
     "output_type": "stream",
     "text": [
      "Num of rows: 1\n"
     ]
    }
   ],
   "source": [
    "print(\"Num of rows:\", len(df_z_rent))"
   ]
  },
  {
   "cell_type": "code",
   "execution_count": null,
   "id": "990d0e65-8e34-40c0-b22a-bd335d30e568",
   "metadata": {},
   "outputs": [],
   "source": []
  },
  {
   "cell_type": "code",
   "execution_count": null,
   "id": "47b16037-59e8-4e91-b616-5547ba3f3826",
   "metadata": {},
   "outputs": [],
   "source": [
    "#full-x-path for Walkscore\n",
    "/html/body/div[3]/div/div/div[3]/div[3]/div[1]/div[1]/div/img"
   ]
  },
  {
   "cell_type": "code",
   "execution_count": null,
   "id": "17936c74-976c-4887-802a-4e133a9b9433",
   "metadata": {},
   "outputs": [],
   "source": [
    "#walkscore query from 1st query\n",
    "https://www.walkscore.com/score/loc/lat=46.79311/lng=-119.276505/"
   ]
  }
 ],
 "metadata": {
  "kernelspec": {
   "display_name": "Python 3 (ipykernel)",
   "language": "python",
   "name": "python3"
  },
  "language_info": {
   "codemirror_mode": {
    "name": "ipython",
    "version": 3
   },
   "file_extension": ".py",
   "mimetype": "text/x-python",
   "name": "python",
   "nbconvert_exporter": "python",
   "pygments_lexer": "ipython3",
   "version": "3.9.12"
  }
 },
 "nbformat": 4,
 "nbformat_minor": 5
}
